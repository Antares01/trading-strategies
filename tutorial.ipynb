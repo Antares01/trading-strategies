{
 "cells": [
  {
   "cell_type": "markdown",
   "id": "3406b6f8",
   "metadata": {},
   "source": [
    "# QuantConnect Tutorial\n",
    "\n",
    "QuantConnect is a browser-based algorithmic trading platform based on the LEAN algorithmic trading engine."
   ]
  },
  {
   "cell_type": "markdown",
   "id": "6d06bba1",
   "metadata": {},
   "source": [
    "### LEAN Installation\n",
    "\n",
    "Install LEAN from https://github.com/QuantConnect/Lean. For more information consult the [*Getting Started*](https://www.lean.io/docs/v2/lean-engine/getting-started) section of the LEAN documentation. The LEAN documentation can be found at https://www.lean.io/docs/v2."
   ]
  },
  {
   "cell_type": "markdown",
   "id": "c601d330",
   "metadata": {},
   "source": [
    "### The QuantConnect API\n",
    "The [*Writing Algorithms*](https://www.quantconnect.com/docs/v2/writing-algorithms) section of the [QuantConnect documentation](https://www.quantconnect.com/docs/v2) provides a good starting point.\n",
    "\n",
    "#### Basics\n",
    "New strategies are written extending the QCAlgorithm class.\n",
    "\n",
    "*Initialize()* &rarr; set parameters for backtest, add equities\n",
    "\n",
    "*OnData()* &rarr;  actions performed every time we get a new detapoint (place orders based on conditions, update data structures, ...)\n",
    "\n",
    "#### Brokerage Models\n",
    "QuantConnect provides different brokerages models for backtesting and live trading. For more information consult the [*Reality Modeling*](https://www.quantconnect.com/docs/v2/writing-algorithms/reality-modeling/key-concepts) section of the QuantConnect documentation."
   ]
  }
 ],
 "metadata": {
  "kernelspec": {
   "display_name": "Python 3 (ipykernel)",
   "language": "python",
   "name": "python3"
  },
  "language_info": {
   "codemirror_mode": {
    "name": "ipython",
    "version": 3
   },
   "file_extension": ".py",
   "mimetype": "text/x-python",
   "name": "python",
   "nbconvert_exporter": "python",
   "pygments_lexer": "ipython3",
   "version": "3.10.5"
  }
 },
 "nbformat": 4,
 "nbformat_minor": 5
}
